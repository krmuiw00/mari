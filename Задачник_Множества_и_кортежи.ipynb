{
  "nbformat": 4,
  "nbformat_minor": 0,
  "metadata": {
    "colab": {
      "provenance": [],
      "include_colab_link": true
    },
    "kernelspec": {
      "name": "python3",
      "display_name": "Python 3"
    },
    "language_info": {
      "name": "python"
    }
  },
  "cells": [
    {
      "cell_type": "markdown",
      "metadata": {
        "id": "view-in-github",
        "colab_type": "text"
      },
      "source": [
        "<a href=\"https://colab.research.google.com/github/krmuiw00/mari/blob/main/%D0%97%D0%B0%D0%B4%D0%B0%D1%87%D0%BD%D0%B8%D0%BA_%D0%9C%D0%BD%D0%BE%D0%B6%D0%B5%D1%81%D1%82%D0%B2%D0%B0_%D0%B8_%D0%BA%D0%BE%D1%80%D1%82%D0%B5%D0%B6%D0%B8.ipynb\" target=\"_parent\"><img src=\"https://colab.research.google.com/assets/colab-badge.svg\" alt=\"Open In Colab\"/></a>"
      ]
    },
    {
      "cell_type": "markdown",
      "source": [
        "## Множества"
      ],
      "metadata": {
        "id": "osl2PyDx_5WN"
      }
    },
    {
      "cell_type": "markdown",
      "source": [
        "1. На входе программе дана строка или список чисел. Преобразуйте их в множество. На выходе должно получиться множество и его *мощность* (количество элекментов  множества).\\\n",
        "Проверьте, что программа правильно работает и для списка, и для строки."
      ],
      "metadata": {
        "id": "t06OKBX9-fLn"
      }
    },
    {
      "cell_type": "code",
      "execution_count": 2,
      "metadata": {
        "id": "gGiLqZkP9-3d",
        "colab": {
          "base_uri": "https://localhost:8080/"
        },
        "outputId": "c0bbb67e-92a5-4ba0-9ef5-c09c68691bf2"
      },
      "outputs": [
        {
          "output_type": "stream",
          "name": "stdout",
          "text": [
            "{0, 1, 2, 3, 4, 5, 6, 7, 100, 101, 'Мама мыла раму.'} 11\n"
          ]
        }
      ],
      "source": [
        "str1 = 'Мама мыла раму.'\n",
        "lst1 = [1,2,3,4,5,6,1,2,3,4,1,2,3,1,2,3,5,6,7,100,101,0]\n",
        "\n",
        "a = set(lst1)\n",
        "a.add(str1)\n",
        "print(a,len(a))\n"
      ]
    },
    {
      "cell_type": "markdown",
      "source": [
        "2. Даны 3 множества. Найдите их разность."
      ],
      "metadata": {
        "id": "LbYilFCF_RBw"
      }
    },
    {
      "cell_type": "code",
      "source": [
        "a = {1, 4, 8,}\n",
        "b = {3, 1, 0}\n",
        "c = {5, 2, 3}\n",
        "diff = a.difference(b)\n",
        "diffe = diff.difference(c)\n",
        "print(diffe)"
      ],
      "metadata": {
        "id": "l1Uuj-hEQJ8Y",
        "colab": {
          "base_uri": "https://localhost:8080/"
        },
        "outputId": "b24396cd-2006-4cf5-c647-001d3c14e14a"
      },
      "execution_count": 3,
      "outputs": [
        {
          "output_type": "stream",
          "name": "stdout",
          "text": [
            "{8, 4}\n"
          ]
        }
      ]
    },
    {
      "cell_type": "markdown",
      "source": [
        "3. Даны 3 множества. Найдите их симметричную разность."
      ],
      "metadata": {
        "id": "cQOgOXhd-5x3"
      }
    },
    {
      "cell_type": "code",
      "source": [
        "a = {1, 4, 8}\n",
        "b = {4, 1, 0}\n",
        "c = {7, 0, 9}\n",
        "d_dif = a.symmetric_difference(b)\n",
        "s_dif = d_dif.symmetric_difference(c)\n",
        "print(s_dif)"
      ],
      "metadata": {
        "id": "I4wv-RpoQJnO",
        "colab": {
          "base_uri": "https://localhost:8080/"
        },
        "outputId": "869564b1-9e83-429b-9e49-bee2fa28e51c"
      },
      "execution_count": 5,
      "outputs": [
        {
          "output_type": "stream",
          "name": "stdout",
          "text": [
            "{9, 8, 7}\n"
          ]
        }
      ]
    },
    {
      "cell_type": "markdown",
      "source": [
        "4. **Супермножество** - это множество, которое включает в себя все элементы другого множества и может быть равно с ним по мощности. Второе множество в данном случае будет называться *подмножеством*.\n",
        "\n",
        "Например, множество целых чисел является супермножеством для множества натуральных чисел:\n",
        "\n",
        "$$\\mathbb{N} \\subset \\mathbb{Z}$$\n",
        "\n",
        "Напишите программу, которая принимает 2 множества.\\\n",
        "Результат работы программы: вывод в консоль одного из сообщений в зависимости от ситуации:\n",
        "\n",
        "- «Супермножество не обнаружено»\n",
        "- «Объект {X} является чистым супермножеством»\n",
        "- «Множества равны»"
      ],
      "metadata": {
        "id": "uWo8j-zK_Xf5"
      }
    },
    {
      "cell_type": "code",
      "source": [],
      "metadata": {
        "id": "x6fuLzdzQIkW"
      },
      "execution_count": null,
      "outputs": []
    },
    {
      "cell_type": "markdown",
      "source": [
        "5. Предоставлен список натуральных чисел. Требуется сформировать из них множество. Если какое-либо число повторяется, то преобразовать его в строку по образцу: например, если число 4 повторяется 3 раза, то в множестве будет следующая запись: само число 4, строка 44 (второе повторение, т.е. число дублируется в строке), строка 444 (третье повторение, т.е. строка множится на 3)."
      ],
      "metadata": {
        "id": "BYFqOrOG_oyn"
      }
    },
    {
      "cell_type": "code",
      "source": [],
      "metadata": {
        "id": "pWqs0cglQH2K"
      },
      "execution_count": null,
      "outputs": []
    },
    {
      "cell_type": "markdown",
      "source": [
        "## Кортежи"
      ],
      "metadata": {
        "id": "9O6vxVh3_7Vt"
      }
    },
    {
      "cell_type": "markdown",
      "source": [
        "1. Напишите программу, которая сортирует кортеж целых чисел по возрастанию и выводит его. Если хотя бы один элемент не является целым числом, то программа должна вернуть исходный кортеж."
      ],
      "metadata": {
        "id": "n_KXt04L_88_"
      }
    },
    {
      "cell_type": "code",
      "source": [
        "cort = ()\n",
        "for element in cort:\n",
        "    if element == int:\n",
        "        cort = tuple(sorted(cort))\n",
        "        print(cort)\n",
        "    else:\n",
        "        print(cort)"
      ],
      "metadata": {
        "id": "Nr82aIZ-_Qje",
        "colab": {
          "base_uri": "https://localhost:8080/"
        },
        "outputId": "123fd0b9-5a83-474e-c364-d9b72a8137cc"
      },
      "execution_count": 13,
      "outputs": [
        {
          "output_type": "stream",
          "name": "stdout",
          "text": [
            "(12, 56, 87, 43, -5, -45)\n",
            "(12, 56, 87, 43, -5, -45)\n",
            "(12, 56, 87, 43, -5, -45)\n",
            "(12, 56, 87, 43, -5, -45)\n",
            "(12, 56, 87, 43, -5, -45)\n",
            "(12, 56, 87, 43, -5, -45)\n"
          ]
        }
      ]
    },
    {
      "cell_type": "markdown",
      "source": [
        "2. Программе на вход подаётся кортеж и случайный\n",
        "элемент. Требуется вернуть новый кортеж, начинающийся\n",
        "с первого появления элемента в нем и заканчивающийся\n",
        "вторым его появлением включительно.\\\n",
        "Если элемента нет вовсе - вернуть пустой кортеж.\\\n",
        "Если элемент встречается только один раз, то вернуть\n",
        "кортеж, который начинается с него и идет до конца\n",
        "ИСХОДНОГО."
      ],
      "metadata": {
        "id": "vO_yVQhqAMQg"
      }
    },
    {
      "cell_type": "code",
      "source": [],
      "metadata": {
        "id": "_F0qSeAMQLR_"
      },
      "execution_count": null,
      "outputs": []
    },
    {
      "cell_type": "markdown",
      "source": [
        "3. На вход программе поступает список целых чисел. В результате выполнения программы должен быть получен кортеж уникальных элементов списка в обратном порядке."
      ],
      "metadata": {
        "id": "3GDgpfyFAVDn"
      }
    },
    {
      "cell_type": "code",
      "source": [
        "me_list = [1, 2, 3, 4, 5, 6, 7]\n",
        "my_list = tuple(me_list)\n",
        "print(my_list[::-1])"
      ],
      "metadata": {
        "id": "xz55dq4sQLpM",
        "colab": {
          "base_uri": "https://localhost:8080/"
        },
        "outputId": "c7bae2c7-0dec-488c-e68d-1bfcc52b8561"
      },
      "execution_count": 19,
      "outputs": [
        {
          "output_type": "stream",
          "name": "stdout",
          "text": [
            "(7, 6, 5, 4, 3, 2, 1)\n"
          ]
        }
      ]
    },
    {
      "cell_type": "markdown",
      "source": [
        "4. Николай знает, что кортежи являются неизменяемыми, но он с этим не готов соглашаться. Ученик решил создать программу, которая будет удалять первое появление определенного элемента из кортежа по значению и возвращать кортеж без оного. Попробуйте повторить шедевр не признающего авторитеты начинающего программиста. К слову, Николай не всегда уверен в наличии элемента в кортеже (в этом случае кортеж должен возвращаться программой в исходном виде)."
      ],
      "metadata": {
        "id": "imrJ1RLoAhjK"
      }
    },
    {
      "cell_type": "code",
      "source": [],
      "metadata": {
        "id": "NCx-OBV7QL_W"
      },
      "execution_count": null,
      "outputs": []
    },
    {
      "cell_type": "markdown",
      "source": [
        "5. Создайте кортеж из 7-ми именованных кортежей учащихся ВУЗов. В именованном кортеже будут присутствовать следующие поля:\n",
        "- имя студента\n",
        "- возраст\n",
        "- оценка за семестр\n",
        "- город проживания.\n",
        "\n",
        "Программа будет принимать этот кортеж, вычислять среднюю оценку по всем учащимся и выводить на печать следующее сообщение: \"Ученики {*список имен студентов через запятую*} в этом семестре хорошо учатся!\". В список студентов, которые выводятся по результатам работы функции, попадут лишь те, у которых оценка за семестр равна или выше средней по всем учащимся.\n",
        "\n",
        "**Подсказка:** используйте форматированные строки: `\"f{...}\"`"
      ],
      "metadata": {
        "id": "TwrbV4IvAt_N"
      }
    },
    {
      "cell_type": "code",
      "source": [],
      "metadata": {
        "id": "GJjOctTGAUng"
      },
      "execution_count": null,
      "outputs": []
    }
  ]
}