{
  "nbformat": 4,
  "nbformat_minor": 0,
  "metadata": {
    "colab": {
      "provenance": [],
      "include_colab_link": true
    },
    "kernelspec": {
      "name": "python3",
      "display_name": "Python 3"
    },
    "language_info": {
      "name": "python"
    }
  },
  "cells": [
    {
      "cell_type": "markdown",
      "metadata": {
        "id": "view-in-github",
        "colab_type": "text"
      },
      "source": [
        "<a href=\"https://colab.research.google.com/github/krmuiw00/mari/blob/main/%D0%97%D0%B0%D0%B4%D0%B0%D1%87%D0%BD%D0%B8%D0%BA_%D0%A1%D0%BB%D0%BE%D0%B2%D0%B0%D1%80%D0%B8.ipynb\" target=\"_parent\"><img src=\"https://colab.research.google.com/assets/colab-badge.svg\" alt=\"Open In Colab\"/></a>"
      ]
    },
    {
      "cell_type": "markdown",
      "source": [
        "# Задача 1: Email-адреса\n",
        "\n",
        "Данные об email-адресах студентов хранятся в словаре"
      ],
      "metadata": {
        "id": "LVHo5wPq1Y2D"
      }
    },
    {
      "cell_type": "code",
      "source": [
        "emails = {'mgu.edu': ['andrei_serov', 'alexander_pushkin', 'elena_belova', 'kirill_stepanov'],\n",
        "      \t'gmail.com': ['alena.semyonova', 'ivan.polekhin', 'marina_abrabova'],\n",
        "      \t'msu.edu': ['sergei.zharkov', 'julia_lyubimova', 'vitaliy.smirnoff'],\n",
        "      \t'yandex.ru': ['ekaterina_ivanova', 'glebova_nastya'],\n",
        "      \t'harvard.edu': ['john.doe', 'mark.zuckerberg', 'helen_hunt'],\n",
        "      \t'mail.ru': ['roman.kolosov', 'ilya_gromov', 'masha.yashkina']}\n",
        "print(*sorted({i + '@' + k for k, v in emails.items() for i in v}))"
      ],
      "metadata": {
        "id": "4t9lkvbO1cm3",
        "outputId": "a565e9cd-2891-474f-8cf6-6d22e05b3ac6",
        "colab": {
          "base_uri": "https://localhost:8080/"
        }
      },
      "execution_count": 5,
      "outputs": [
        {
          "output_type": "stream",
          "name": "stdout",
          "text": [
            "alena.semyonova@gmail.com alexander_pushkin@mgu.edu andrei_serov@mgu.edu ekaterina_ivanova@yandex.ru elena_belova@mgu.edu glebova_nastya@yandex.ru helen_hunt@harvard.edu ilya_gromov@mail.ru ivan.polekhin@gmail.com john.doe@harvard.edu julia_lyubimova@msu.edu kirill_stepanov@mgu.edu marina_abrabova@gmail.com mark.zuckerberg@harvard.edu masha.yashkina@mail.ru roman.kolosov@mail.ru sergei.zharkov@msu.edu vitaliy.smirnoff@msu.edu\n"
          ]
        }
      ]
    },
    {
      "cell_type": "markdown",
      "source": [
        "Здесь ключом является домен, а значением - имя пользователя."
      ],
      "metadata": {
        "id": "J-YIL0Dc1g3I"
      }
    },
    {
      "cell_type": "markdown",
      "source": [
        "Нужно дополнить код таким образом, чтобы он вывел все адреса в алфавитном порядке и в формате `имя_пользователя@домен`."
      ],
      "metadata": {
        "id": "r4ZsXFsS1dGe"
      }
    },
    {
      "cell_type": "code",
      "source": [
        "print(*sorted({i + '@' + k for k, v in emails.items() for i in v}))"
      ],
      "metadata": {
        "id": "4QKkE8eK95Al",
        "outputId": "da93010a-622f-4dbf-a543-d53848000c90",
        "colab": {
          "base_uri": "https://localhost:8080/",
          "height": 172
        }
      },
      "execution_count": 3,
      "outputs": [
        {
          "output_type": "error",
          "ename": "NameError",
          "evalue": "ignored",
          "traceback": [
            "\u001b[0;31m---------------------------------------------------------------------------\u001b[0m",
            "\u001b[0;31mNameError\u001b[0m                                 Traceback (most recent call last)",
            "\u001b[0;32m<ipython-input-3-81e1d7fbff7f>\u001b[0m in \u001b[0;36m<module>\u001b[0;34m\u001b[0m\n\u001b[0;32m----> 1\u001b[0;31m \u001b[0mprint\u001b[0m\u001b[0;34m(\u001b[0m\u001b[0;34m*\u001b[0m\u001b[0msorted\u001b[0m\u001b[0;34m(\u001b[0m\u001b[0;34m{\u001b[0m\u001b[0mi\u001b[0m \u001b[0;34m+\u001b[0m \u001b[0;34m'@'\u001b[0m \u001b[0;34m+\u001b[0m \u001b[0mk\u001b[0m \u001b[0;32mfor\u001b[0m \u001b[0mk\u001b[0m\u001b[0;34m,\u001b[0m \u001b[0mv\u001b[0m \u001b[0;32min\u001b[0m \u001b[0memails\u001b[0m\u001b[0;34m.\u001b[0m\u001b[0mitems\u001b[0m\u001b[0;34m(\u001b[0m\u001b[0;34m)\u001b[0m \u001b[0;32mfor\u001b[0m \u001b[0mi\u001b[0m \u001b[0;32min\u001b[0m \u001b[0mv\u001b[0m\u001b[0;34m}\u001b[0m\u001b[0;34m)\u001b[0m\u001b[0;34m)\u001b[0m\u001b[0;34m\u001b[0m\u001b[0;34m\u001b[0m\u001b[0m\n\u001b[0m",
            "\u001b[0;31mNameError\u001b[0m: name 'emails' is not defined"
          ]
        }
      ]
    },
    {
      "cell_type": "markdown",
      "source": [
        "# Задача 2: Коты и владельцы"
      ],
      "metadata": {
        "id": "U6rr4AcD1zrr"
      }
    },
    {
      "cell_type": "markdown",
      "source": [
        "В базе данных ветеринарной клиники информация о пациентах-котах хранится в списке кортежей. Данные о кошках и их владельцах записаны в формате «Кличка животного, Возраст животного, Имя владельца, Фамилия владельца»:"
      ],
      "metadata": {
        "id": "vmxkz4uf121P"
      }
    },
    {
      "cell_type": "code",
      "source": [
        "cats = [('Мартин', 5, 'Алексей', 'Егоров'),\n",
        "    \t('Фродо', 3, 'Анна', 'Самохина'),\n",
        "    \t('Вася', 4, 'Андрей', 'Белов'),\n",
        "    \t('Муся', 7, 'Игорь', 'Бероев'),\n",
        "    \t('Изольда', 2, 'Игорь', 'Бероев'),\n",
        "    \t('Снейп', 1, 'Марина', 'Апраксина'),\n",
        "    \t('Лютик', 4, 'Виталий', 'Соломин'),\n",
        "    \t('Снежок', 3, 'Марина', 'Апраксина'),\n",
        "    \t('Марта', 5, 'Сергей', 'Колесников'),\n",
        "    \t('Буся', 12, 'Алена', 'Федорова'),\n",
        "    \t('Джонни', 10, 'Игорь', 'Андропов'),\n",
        "    \t('Мурзик', 1,'Даниил', 'Невзоров'),\n",
        "    \t('Барсик', 2, 'Виталий', 'Соломин'),\n",
        "    \t('Рыжик', 7, 'Владимир', 'Медведев'),\n",
        "        ('Матильда', 8, 'Андрей', 'Белов'),\n",
        "    \t('Гарфилд', 3, 'Александр', 'Березуев')]\n"
      ],
      "metadata": {
        "id": "sLzsxT6R11uy"
      },
      "execution_count": null,
      "outputs": []
    },
    {
      "cell_type": "markdown",
      "source": [
        "Обнаружилось, что имена некоторых владельцев повторяются, потому что у них несколько кошек. Необходимо оптимизировать хранение данных таким образом, чтобы для каждого владельца при выводе на печать данные о всех его животных отображались в одной строке:\n",
        "\n",
        "    Игорь Бероев: Муся, 7; Изольда, 2"
      ],
      "metadata": {
        "id": "lWpzr_Io16ac"
      }
    },
    {
      "cell_type": "code",
      "source": [],
      "metadata": {
        "id": "9h2s2G7G94cn"
      },
      "execution_count": null,
      "outputs": []
    },
    {
      "cell_type": "markdown",
      "source": [
        "# Задача 3: Дубликаты"
      ],
      "metadata": {
        "id": "Ae1gwY-j2CcH"
      }
    },
    {
      "cell_type": "markdown",
      "source": [
        "Напишите программу, которая принимает на вход строку, и отслеживает, сколько раз каждый символ уже встречался. Количество повторов добавляется к символам с помощью постфикса формата `_n`."
      ],
      "metadata": {
        "id": "I_xdpl992EUe"
      }
    },
    {
      "cell_type": "markdown",
      "source": [
        "**Пример ввода:**\n",
        "\n",
        "    a a a b c a a d c d d\n",
        "\n",
        "**Пример вывода:**\n",
        "\n",
        "    a a_1 a_2 b c a_3 a_4 d c_1 d_1 d_2"
      ],
      "metadata": {
        "id": "oDa5p4D72HkJ"
      }
    },
    {
      "cell_type": "code",
      "source": [
        "input_str = 'a a a b c a a d c d d'\n"
      ],
      "metadata": {
        "id": "Gz6KA8-Y2DeZ"
      },
      "execution_count": null,
      "outputs": []
    },
    {
      "cell_type": "code",
      "source": [],
      "metadata": {
        "id": "RyOBUG-x92-h"
      },
      "execution_count": null,
      "outputs": []
    },
    {
      "cell_type": "markdown",
      "source": [
        "# Задача 4: Анаграммы\n",
        "\n",
        "Напишите программу, которая принимает на вход две строки и определяет, являются ли они анаграммами. Знаки препинания, пробелы и регистр при этом игнорируются.\n",
        "\n",
        "**Пример ввода:**\n",
        "\n",
        "    Цари, вино и сало.\n",
        "    Лисица и ворона.\n",
        "\n",
        "**Пример вывода:**\n",
        "\n",
        "    YES"
      ],
      "metadata": {
        "id": "Km12zHyg2QEG"
      }
    },
    {
      "cell_type": "markdown",
      "source": [
        "Подсказка: вам поможет строковые методы `upper()` или `lower()` - на ваш вкус."
      ],
      "metadata": {
        "id": "uoXqB6sd7n05"
      }
    },
    {
      "cell_type": "code",
      "source": [
        "str1 = 'Цари, вино и сало.'\n",
        "str1 = 'Лисица и ворона.'\n"
      ],
      "metadata": {
        "id": "P5VNHYZ22eeC"
      },
      "execution_count": null,
      "outputs": []
    },
    {
      "cell_type": "code",
      "source": [],
      "metadata": {
        "id": "itYYNviu92iQ"
      },
      "execution_count": null,
      "outputs": []
    },
    {
      "cell_type": "markdown",
      "source": [
        "# Задача 5: Расшифровка\n",
        "\n",
        "На вход программе подается:\n",
        "\n",
        "1. Зашифрованная строка.\n",
        "\n",
        "2. N – число букв в словаре.\n",
        "\n",
        "3. N строк, в которых в формате «буква: частота» указывается, сколько раз каждая буква встречается в слове.\n",
        "\n",
        "Программа выводит расшифрованное слово."
      ],
      "metadata": {
        "id": "8R80IMQl2orc"
      }
    },
    {
      "cell_type": "markdown",
      "source": [
        "**Пример ввода:**\n",
        "\n",
        "    ?*!*!*\n",
        "    3\n",
        "    b: 1\n",
        "    a: 3\n",
        "    n: 2\n",
        "\n",
        "**Пример вывода:**\n",
        "\n",
        "    banana"
      ],
      "metadata": {
        "id": "SKCVyy_h24n9"
      }
    },
    {
      "cell_type": "markdown",
      "source": [
        "Примечание: можно реализовать программу с помощью функции `input()`."
      ],
      "metadata": {
        "id": "nfXFf2A-6TRE"
      }
    },
    {
      "cell_type": "code",
      "source": [],
      "metadata": {
        "id": "6BGW8GPm916Q"
      },
      "execution_count": null,
      "outputs": []
    }
  ]
}