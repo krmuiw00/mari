{
  "nbformat": 4,
  "nbformat_minor": 0,
  "metadata": {
    "colab": {
      "provenance": [],
      "include_colab_link": true
    },
    "kernelspec": {
      "name": "python3",
      "display_name": "Python 3"
    },
    "language_info": {
      "name": "python"
    }
  },
  "cells": [
    {
      "cell_type": "markdown",
      "metadata": {
        "id": "view-in-github",
        "colab_type": "text"
      },
      "source": [
        "<a href=\"https://colab.research.google.com/github/krmuiw00/mari/blob/main/untitled.ipynb\" target=\"_parent\"><img src=\"https://colab.research.google.com/assets/colab-badge.svg\" alt=\"Open In Colab\"/></a>"
      ]
    },
    {
      "cell_type": "markdown",
      "source": [
        "1. Составьте блок-схему поиска максимального элемента в одномерном массиве."
      ],
      "metadata": {
        "id": "Mw-iQ06HMnFO"
      }
    },
    {
      "cell_type": "code",
      "source": [
        "a = [1, 5, 8, 4, 3, 9, 7]\n",
        "print(max(a))"
      ],
      "metadata": {
        "colab": {
          "base_uri": "https://localhost:8080/"
        },
        "id": "m6CuaiolQaUj",
        "outputId": "32139c9f-3fbc-47b5-d42c-f7825b28ad83"
      },
      "execution_count": null,
      "outputs": [
        {
          "output_type": "stream",
          "name": "stdout",
          "text": [
            "9\n"
          ]
        }
      ]
    },
    {
      "cell_type": "markdown",
      "source": [
        "2. Отсортируйте массив \"методом пузырька\"."
      ],
      "metadata": {
        "id": "RPc1vA3mMpw2"
      }
    },
    {
      "cell_type": "code",
      "source": [
        "a = [5,4,654,5,34,6,3,6,3,6,3,235,4,63,4,6]\n",
        "for i in range(0,len(a)-1):\n",
        "    for j in range(len(a)-1):\n",
        "        if (a[j]>a[j+1]):\n",
        "            b = a[j]\n",
        "            a[j] = a[j+1]\n",
        "            a[j+1] = b\n",
        "print(a)"
      ],
      "metadata": {
        "id": "8eNyePw5D-Bz",
        "colab": {
          "base_uri": "https://localhost:8080/"
        },
        "outputId": "a70feaac-4e92-4966-b86d-8046b6d8ea79"
      },
      "execution_count": null,
      "outputs": [
        {
          "output_type": "stream",
          "name": "stdout",
          "text": [
            "[3, 3, 3, 4, 4, 4, 5, 5, 6, 6, 6, 6, 34, 63, 235, 654]\n"
          ]
        }
      ]
    },
    {
      "cell_type": "markdown",
      "source": [
        "Примечание: пользоваться встроенными функциями и методами сортировки нельзя."
      ],
      "metadata": {
        "id": "1zJDP0p97-Pd"
      }
    },
    {
      "cell_type": "code",
      "source": [
        "a.sort()\n",
        "a"
      ],
      "metadata": {
        "colab": {
          "base_uri": "https://localhost:8080/"
        },
        "id": "etV3L1GxFGhn",
        "outputId": "c2b43423-c4c0-4691-9e57-64232d443b3b"
      },
      "execution_count": null,
      "outputs": [
        {
          "output_type": "execute_result",
          "data": {
            "text/plain": [
              "[3, 3, 3, 4, 4, 4, 5, 5, 6, 6, 6, 6, 34, 63, 235, 654]"
            ]
          },
          "metadata": {},
          "execution_count": 2
        }
      ]
    },
    {
      "cell_type": "markdown",
      "source": [
        "3. Дан одномерный массив числовых значений, насчитывающий $N$ элементов. Поменять местами элементы, стоящие на чётных и нечётных местах: $A[1] \\leftrightarrow A[2] ; A[3] \\rightarrow A[4] \\ldots$"
      ],
      "metadata": {
        "id": "0u90lberMptf"
      }
    },
    {
      "cell_type": "code",
      "source": [
        "for i in range(0,len(a) -1, 2):\n",
        "    a[i], a[i+1] = a[i+1], a[i]\n",
        "print(a)"
      ],
      "metadata": {
        "colab": {
          "base_uri": "https://localhost:8080/"
        },
        "id": "9NZQcamaRJEp",
        "outputId": "85b40b05-9710-4e68-fc76-036aba4d92d7"
      },
      "execution_count": null,
      "outputs": [
        {
          "output_type": "stream",
          "name": "stdout",
          "text": [
            "[3, 3, 4, 3, 4, 4, 5, 5, 6, 6, 6, 6, 63, 34, 654, 235]\n"
          ]
        }
      ]
    },
    {
      "cell_type": "markdown",
      "source": [
        "4. Дан одномерный массив числовых значений, насчитывающий $N$ элементов. Выполнить перемещение элементов массива по кругу вправо, т. е. $A[1] \\rightarrow A[2] ; A[2] \\rightarrow A[3] ; \\ldots A[n] \\rightarrow A[1]$."
      ],
      "metadata": {
        "id": "fme85zIsMprn"
      }
    },
    {
      "cell_type": "code",
      "source": [
        "for i in range(0,len(a) -1):\n",
        "    a[i] = a[i+1]\n",
        "print(a)"
      ],
      "metadata": {
        "colab": {
          "base_uri": "https://localhost:8080/"
        },
        "id": "EXWCQ9kIRaLg",
        "outputId": "32d48be9-fa91-49c0-9bad-8aec1315b7c5"
      },
      "execution_count": null,
      "outputs": [
        {
          "output_type": "stream",
          "name": "stdout",
          "text": [
            "[3, 4, 3, 4, 4, 5, 5, 6, 6, 6, 6, 63, 34, 654, 235, 235]\n"
          ]
        }
      ]
    },
    {
      "cell_type": "markdown",
      "source": [
        "5. Дан одномерный массив числовых значений, насчитывающий $N$ элементов. Поменять местами первую и вторую половины массива."
      ],
      "metadata": {
        "id": "OT_GdMIHMppa"
      }
    },
    {
      "cell_type": "code",
      "source": [
        "a = []\n",
        "b = len(a) // 2\n",
        "print(a[b:] + a[:b])"
      ],
      "metadata": {
        "id": "KgO5-VyNR1g3"
      },
      "execution_count": null,
      "outputs": []
    },
    {
      "cell_type": "markdown",
      "source": [
        "6. Дан одномерный массив числовых значений, насчитывающий $N$ элементов. Поменять местами группу из $M$ элементов, начинающихся с позиции $K$ с группой из $M$ элементов, начинающихся с позиции $P$."
      ],
      "metadata": {
        "id": "SRGueKB2MpnT"
      }
    },
    {
      "cell_type": "markdown",
      "source": [
        "7. Дан одномерный массив числовых значений, насчитывающий $N$ элементов. Вставить группу из $M$ новых элементов, начиная с позиции $K$."
      ],
      "metadata": {
        "id": "4_YLLKT3MplL"
      }
    },
    {
      "cell_type": "markdown",
      "source": [
        "8. Дан одномерный массив числовых значений, насчитывающий $N$ элементов. Сумму элементов массива и количество положительных элементов поставить на первое и второе место."
      ],
      "metadata": {
        "id": "NTQ0i4AXM4Sy"
      }
    },
    {
      "cell_type": "code",
      "source": [
        "a = []\n",
        "b = len(a)\n",
        "c = len(a) // 2\n",
        "a.insert(0, b)\n",
        "a.insert(1, c)\n",
        "print(a)"
      ],
      "metadata": {
        "id": "q1_vcpT0SC19"
      },
      "execution_count": null,
      "outputs": []
    },
    {
      "cell_type": "markdown",
      "source": [
        "9. Дан одномерный массив числовых значений, насчитывающий $N$ элементов. Исключить из него $M$ элементов, начиная с позиции $K$."
      ],
      "metadata": {
        "id": "7zCPgfEGM4Q6"
      }
    },
    {
      "cell_type": "markdown",
      "source": [
        "10. Дан одномерный массив числовых значений, насчитывающий $N$ элементов. Исключить все нулевые элементы."
      ],
      "metadata": {
        "id": "uV5k4IQPM4OW"
      }
    },
    {
      "cell_type": "markdown",
      "source": [
        "11. Дан одномерный массив числовых значений, насчитывающий $N$ элементов. После каждого отрицательного элемента вставить новый элемент, равный квадрату этого отрицательного элемента."
      ],
      "metadata": {
        "id": "hECZRM1XM4L2"
      }
    },
    {
      "cell_type": "code",
      "source": [
        "a = [1, 2, 3, -4, -5, -8]\n",
        "for i in a:\n",
        "    if i < 0:\n",
        "        a.insert(i+1, i ** 2)\n",
        "    else:\n",
        "        pass\n",
        "print(a)"
      ],
      "metadata": {
        "id": "JWTJtv0-Ss8L"
      },
      "execution_count": null,
      "outputs": []
    },
    {
      "cell_type": "markdown",
      "source": [
        "12. Дан одномерный массив числовых значений, насчитывающий $N$ элементов. Определить, образуют ли элементы массива, расположенные перед первым отрицательным элементом, возрастающую последовательность."
      ],
      "metadata": {
        "id": "02PN7m5iM4JL"
      }
    },
    {
      "cell_type": "markdown",
      "source": [
        "13. Дан одномерный массив числовых значений, насчитывающий $N$ элементов. Определить, образуют ли элементы массива, расположенные перед первым отрицательным элементом, убывающую последовательность."
      ],
      "metadata": {
        "id": "WLhlW3YBNBUO"
      }
    },
    {
      "cell_type": "markdown",
      "source": [
        "14. Дан одномерный массив числовых значений, насчитывающий $N$ элементов. Из элементов исходного массива построить два новых. В первый должны входить только элементы с положительными значениями, а во второй - только элементы с отрицательными значениями."
      ],
      "metadata": {
        "id": "WkgHtK9-NJIi"
      }
    },
    {
      "cell_type": "code",
      "source": [
        "a = [1, 2, 3, 4, 5, 6, 7, 8, 9, -4, -5, 0]\n",
        "b = list()\n",
        "c = list()\n",
        "for i in a:\n",
        "    if i > 0:\n",
        "        b.append(i)\n",
        "    else:\n",
        "        c.append(i)\n",
        "print(b)\n",
        "print(c)\n"
      ],
      "metadata": {
        "id": "qZBTrYgHTAXS"
      },
      "execution_count": null,
      "outputs": []
    },
    {
      "cell_type": "markdown",
      "source": [
        "15. Дан одномерный массив числовых значений, насчитывающий $N$ элементов. Добавить столько элементов, чтобы элементов с положительными и отрицательными значениями стало бы поровну."
      ],
      "metadata": {
        "id": "N8hWFhtYNKkS"
      }
    },
    {
      "cell_type": "markdown",
      "source": [
        "16. Дан одномерный массив числовых значений, насчитывающий $N$ элементов. Добавить к элементам массива такой новый элемент, чтобы сумма элементов с положительными значениями стала бы равна модулю суммы элементов с отрицательными значениями."
      ],
      "metadata": {
        "id": "cHnGWlSCNMbK"
      }
    },
    {
      "cell_type": "markdown",
      "source": [
        "17. Дан одномерный массив числовых значений, насчитывающий $N$ элементов. Дано положительное число $T$. Разделить это число между положительными элементами массива пропорционально значениям этих элементов и добавить полученные доли к соответствующим элементам."
      ],
      "metadata": {
        "id": "b3-WTT6pNQdh"
      }
    },
    {
      "cell_type": "markdown",
      "source": [
        "18. Дан одномерный массив числовых значений, насчитывающий $N$ элементов. Исключить из массива элементы, принадлежащие промежутку $[B ; C]$."
      ],
      "metadata": {
        "id": "8Vm-Ga83NQav"
      }
    },
    {
      "cell_type": "markdown",
      "source": [
        "19. Дан одномерный массив числовых значений, насчитывающий $N$ элементов. Вместо каждого элемента с нулевым значением поставить сумму двух предыдущих элементов массива."
      ],
      "metadata": {
        "id": "beOzRaFrNQYe"
      }
    },
    {
      "cell_type": "markdown",
      "source": [
        "20. Дан одномерный массив числовых значений, насчитывающий $N$ элементов. Определить, имеются ли в массиве два подряд идущих нуля."
      ],
      "metadata": {
        "id": "xs0V685qNQWW"
      }
    },
    {
      "cell_type": "code",
      "source": [
        "a = [1, 5, 7, 0, 0, 3, 4]\n",
        "for i in range(a):\n",
        "    if a[i] == 0 and a[i+1] == 0:\n",
        "        print('да')\n",
        "    else:\n",
        "        print('нет')"
      ],
      "metadata": {
        "id": "mv6uk0QDSXcm"
      },
      "execution_count": null,
      "outputs": []
    },
    {
      "cell_type": "markdown",
      "source": [
        "21. Дан одномерный массив числовых значений, насчитывающий $N$ элементов. Подсчитать количество чисел, делящихся на 3 нацело, и среднее арифметическое чисел с чётными значениями. Поставить полученные величины на первое и последнее места в массиве (увеличив массив на 2 элемента)."
      ],
      "metadata": {
        "id": "AtwySHd4NQUO"
      }
    },
    {
      "cell_type": "code",
      "source": [],
      "metadata": {
        "id": "LBexOEqpM2g8"
      },
      "execution_count": null,
      "outputs": []
    }
  ]
}